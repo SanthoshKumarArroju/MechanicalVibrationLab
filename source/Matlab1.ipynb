{
 "cells": [
  {
   "cell_type": "markdown",
   "metadata": {},
   "source": [
    "# ME 6210 Lab Notes(just for reference)"
   ]
  },
  {
   "cell_type": "markdown",
   "metadata": {},
   "source": [
    "Lab 1\n",
    "===\n",
    "\n",
    "Identification of Damping Using Log Decrement\n",
    "----------------------------------------------------\n"
   ]
  },
  {
   "cell_type": "code",
   "execution_count": 15,
   "metadata": {
    "collapsed": true
   },
   "outputs": [],
   "source": [
    "clear all\n",
    "close all\n",
    "clc"
   ]
  },
  {
   "cell_type": "markdown",
   "metadata": {},
   "source": [
    "Beam Properties\n",
    "------------------------------"
   ]
  },
  {
   "cell_type": "code",
   "execution_count": 16,
   "metadata": {},
   "outputs": [
    {
     "name": "stdout",
     "output_type": "stream",
     "text": [
      "\n",
      "wn =\n",
      "\n",
      "  108.2591\n",
      "\n",
      "\n",
      "wn2 =\n",
      "\n",
      "  219.7387\n",
      "\n"
     ]
    }
   ],
   "source": [
    "l=21.75*0.0254;% length in meters\n",
    "h=0.5*0.0254;% height in meters\n",
    "w=1*0.0254;% width in meters\n",
    "rho=2700;% density in kg/cubicmeter\n",
    "E=7.31e10;% youngs modulus in Pa\n",
    "I = (1/12)*w*h^3; % moment of inertia (m^4)\n",
    "k = (3*E*I)/l^3; % stiffness (N/m)\n",
    "V = l*w*h;% volume (m^3)\n",
    "m = rho*V;% mass (kg)\n",
    "wn = sqrt(k/m) % analytical natural frequency of massless beam with concentrated mass\n",
    "wn2=(1.875)^(2)*sqrt((E*I)/(m*(l)^3)) % natural freqency of a uniform section beam\n",
    "%c_cr = 2*sqrt(k*m); % critical damping coefficient"
   ]
  },
  {
   "cell_type": "markdown",
   "metadata": {},
   "source": [
    "Acceleration vs Time plot\n",
    "=================="
   ]
  },
  {
   "cell_type": "code",
   "execution_count": 17,
   "metadata": {
    "collapsed": true
   },
   "outputs": [],
   "source": [
    "load('Case1-2.mat')\n",
    "% Adjust data to, on average, center around 0g's, then convert to m/s^2 \n",
    "Time_chan_2 = Time_chan_2*(9.81);\n",
    "mean=sum(Time_chan_2)/length(Time_chan_2);\n",
    "Accel = Time_chan_2-mean;\n",
    "%plot acceleration data\n",
    "figure\n",
    "plot(Time_domain, Accel)\n",
    "grid on\n",
    "grid minor\n",
    "title('Case 2: acceleration vs time')\n",
    "xlabel('t(s)')\n",
    "ylabel('acceleration (m/s^2)')"
   ]
  },
  {
   "cell_type": "markdown",
   "metadata": {},
   "source": [
    "Data Analysis\n",
    "==============\n"
   ]
  },
  {
   "cell_type": "code",
   "execution_count": 20,
   "metadata": {
    "collapsed": true
   },
   "outputs": [],
   "source": [
    "% Enter values from plots for calculations. Use data cursor to\n",
    "% obtain x and t values.\n",
    "x1 = 81.45;\n",
    "t1 = 0.007031;\n",
    "x2 = 15.44;\n",
    "t2 = 3.181;\n",
    "n = 106;\n",
    "time = t2-t1;"
   ]
  },
  {
   "cell_type": "markdown",
   "metadata": {},
   "source": [
    "Log Decrement Method\n",
    "======================"
   ]
  },
  {
   "cell_type": "code",
   "execution_count": 21,
   "metadata": {},
   "outputs": [
    {
     "name": "stdout",
     "output_type": "stream",
     "text": [
      "\n",
      "d =\n",
      "\n",
      "    0.0157\n",
      "\n"
     ]
    }
   ],
   "source": [
    "d = (1/n)*log(x1/x2) % delta"
   ]
  },
  {
   "cell_type": "code",
   "execution_count": 22,
   "metadata": {},
   "outputs": [
    {
     "name": "stdout",
     "output_type": "stream",
     "text": [
      "\n",
      "z =\n",
      "\n",
      "    0.0025\n",
      "\n"
     ]
    }
   ],
   "source": [
    "z= d/sqrt(4*pi^2+d^2) % zeta"
   ]
  },
  {
   "cell_type": "code",
   "execution_count": 23,
   "metadata": {},
   "outputs": [
    {
     "name": "stdout",
     "output_type": "stream",
     "text": [
      "\n",
      "Td =\n",
      "\n",
      "    0.0299\n",
      "\n"
     ]
    }
   ],
   "source": [
    "Td = (time/n)%damped time period"
   ]
  },
  {
   "cell_type": "code",
   "execution_count": 24,
   "metadata": {},
   "outputs": [
    {
     "name": "stdout",
     "output_type": "stream",
     "text": [
      "\n",
      "wd =\n",
      "\n",
      "  209.8375\n",
      "\n"
     ]
    }
   ],
   "source": [
    "wd = 2*pi/Td % damped natural frequency"
   ]
  },
  {
   "cell_type": "code",
   "execution_count": 25,
   "metadata": {},
   "outputs": [
    {
     "name": "stdout",
     "output_type": "stream",
     "text": [
      "\n",
      "wne =\n",
      "\n",
      "  209.8381\n",
      "\n"
     ]
    }
   ],
   "source": [
    "wne = wd/sqrt(1-z^2) % natural frequency in rad/sec"
   ]
  },
  {
   "cell_type": "code",
   "execution_count": 26,
   "metadata": {},
   "outputs": [
    {
     "name": "stdout",
     "output_type": "stream",
     "text": [
      "\n",
      "k2 =\n",
      "\n",
      "   2.1187e+04\n",
      "\n"
     ]
    }
   ],
   "source": [
    "k2=(wne^2)*m % one way to use experimental zeta and nat freq to calculate C"
   ]
  },
  {
   "cell_type": "code",
   "execution_count": 27,
   "metadata": {
    "collapsed": true
   },
   "outputs": [],
   "source": [
    "c_cr = 2*sqrt(k2*m); % critical "
   ]
  },
  {
   "cell_type": "code",
   "execution_count": 28,
   "metadata": {},
   "outputs": [
    {
     "name": "stdout",
     "output_type": "stream",
     "text": [
      "\n",
      "c =\n",
      "\n",
      "    0.5042\n",
      "\n"
     ]
    }
   ],
   "source": [
    "c=c_cr*z % damping constant"
   ]
  },
  {
   "cell_type": "markdown",
   "metadata": {},
   "source": [
    "Using Vibration toolbox for comparison\n",
    "========================================"
   ]
  },
  {
   "cell_type": "code",
   "execution_count": 13,
   "metadata": {
    "scrolled": true
   },
   "outputs": [
    {
     "name": "stdout",
     "output_type": "stream",
     "text": [
      "The natural frequency is 210 rad/s.\n",
      "The damping ratio is 0.0025.\n",
      "The damped natural frequency is 210.\n",
      "A= 0.00189\n",
      "phi= 2.41\n",
      "Current plot held\n"
     ]
    }
   ],
   "source": [
    "x = Accel./-(wd^2);\n",
    "ax=max(x); % max amplitude\n",
    "initialvel=-ax*wne;\n",
    "vtb1_1(m,c,k2,x(1),-ax*wne,3.2)\n",
    "hold\n",
    "plot(Time_domain, x)\n",
    "grid on\n",
    "grid minor\n",
    "title('Case 2: position vs time')\n",
    "xlabel('t(s)')\n",
    "ylabel('Position (m)')\n",
    "legend('Estimated Displacement','Experimental Displacement')"
   ]
  },
  {
   "cell_type": "markdown",
   "metadata": {},
   "source": [
    "3 Mode shapes\n",
    "=============="
   ]
  },
  {
   "cell_type": "code",
   "execution_count": 14,
   "metadata": {
    "collapsed": true
   },
   "outputs": [],
   "source": [
    "% Plot first 3 mode shapes\n",
    "beta_1 = 1.87510407;\n",
    "beta_2 = 4.69409113;\n",
    "beta_3 = 7.85475744;\n",
    "sigma_1 = 0.7341;\n",
    "sigma_2 = 1.0185;\n",
    "sigma_3 = 0.9992;\n",
    "close all\n",
    "figure\n",
    "hold on\n",
    "x = [0:1/1000:1];\n",
    "Xn_1 = cosh(beta_1.*x)-cos(beta_1.*x)-sigma_1.*(sinh(beta_1.*x)-sin(beta_1.*x));\n",
    "Xn_2 = cosh(beta_2.*x)-cos(beta_2.*x)-sigma_2.*(sinh(beta_2.*x)-sin(beta_2.*x));\n",
    "Xn_3 = cosh(beta_3.*x)-cos(beta_3.*x)-sigma_3.*(sinh(beta_3.*x)-sin(beta_3.*x));\n",
    "plot(x,Xn_1)\n",
    "plot(x,Xn_2)\n",
    "plot(x,Xn_3)\n",
    "title('First three mode shapes of a clapmed-free beam')\n",
    "xlabel('length (x/l)')\n",
    "ylabel('displacement (x)')\n",
    "grid on\n",
    "hold off"
   ]
  },
  {
   "cell_type": "code",
   "execution_count": null,
   "metadata": {
    "collapsed": true
   },
   "outputs": [],
   "source": []
  }
 ],
 "metadata": {
  "kernelspec": {
   "display_name": "MATLAB",
   "language": "matlab",
   "name": "imatlab"
  },
  "language_info": {
   "codemirror_mode": "octave",
   "file_extension": ".m",
   "mimetype": "text/x-matlab",
   "name": "matlab",
   "nbconvert_exporter": "imatlab._exporter.MatlabExporter",
   "pygments_lexer": "matlab",
   "version": "9.2.0.556344 (R2017a)"
  }
 },
 "nbformat": 4,
 "nbformat_minor": 2
}
