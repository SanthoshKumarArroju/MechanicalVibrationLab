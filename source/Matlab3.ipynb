{
 "cells": [
  {
   "cell_type": "markdown",
   "metadata": {},
   "source": [
    "# ME 6210 Lab Notes(just for reference)"
   ]
  },
  {
   "cell_type": "markdown",
   "metadata": {},
   "source": [
    "Lab 3\n",
    "===\n",
    "\n",
    "Computation of Rotating Unbalance\n",
    "----------------------------------------------------\n"
   ]
  },
  {
   "cell_type": "code",
   "execution_count": 61,
   "metadata": {
    "collapsed": true
   },
   "outputs": [],
   "source": [
    "clear all\n",
    "close all\n",
    "clc"
   ]
  },
  {
   "cell_type": "markdown",
   "metadata": {},
   "source": [
    "Using Vibration toolbox\n",
    "========================="
   ]
  },
  {
   "cell_type": "code",
   "execution_count": 62,
   "metadata": {},
   "outputs": [
    {
     "name": "stdout",
     "output_type": "stream",
     "text": [
      "> In sdofcf (line 107)\n",
      "Warning: Rank deficient, rank = 4, tol =  8.198982e+03.\n",
      "> In sdofcf (line 129)\n",
      "Warning: Rank deficient, rank = 3, tol =  3.271103e-03.\n",
      "zeta = 0.0020271\n",
      "f = 206.94 Hz.\n",
      "amplitude = 0.\n"
     ]
    }
   ],
   "source": [
    "load('Case3-1')\n",
    "Fmin=200;\n",
    "Fmax=230;\n",
    "sdofcf(Freq_domain,Hf_chan_2,Fmin,Fmax)\n"
   ]
  },
  {
   "cell_type": "code",
   "execution_count": 63,
   "metadata": {
    "collapsed": true
   },
   "outputs": [],
   "source": [
    "zeta = 0.0020271;\n",
    "f = 206.94; % second natural frequency in Hz"
   ]
  },
  {
   "cell_type": "markdown",
   "metadata": {},
   "source": [
    "Power spectral Density plot \n",
    "---------------------------------"
   ]
  },
  {
   "cell_type": "code",
   "execution_count": 64,
   "metadata": {
    "collapsed": true
   },
   "outputs": [],
   "source": [
    "load('Case3-5-Fn+10')\n",
    "figure\n",
    "A=20*log10(PSD_chan_2);\n",
    "plot(Freq_domain,A);\n",
    "grid on\n",
    "grid minor\n",
    "title('Case 3-5-Fn+10: Freqency vs PSD')\n",
    "xlabel('f(Hz)')\n",
    "ylabel('PSD')\n"
   ]
  },
  {
   "cell_type": "markdown",
   "metadata": {},
   "source": [
    "Experimental Data Analysis\n",
    "-------------------------------"
   ]
  },
  {
   "cell_type": "code",
   "execution_count": 65,
   "metadata": {},
   "outputs": [
    {
     "name": "stdout",
     "output_type": "stream",
     "text": [
      "\n",
      "wr =\n",
      "\n",
      "  single\n",
      "\n",
      "  219.6875\n",
      "\n"
     ]
    }
   ],
   "source": [
    "load('Case3-5-Fn+10')\n",
    "% Driving Freqency\n",
    "[x,y]=max(PSD_chan_2);\n",
    "wr=Freq_domain(y) %in Hz\n",
    "[a,b]=max(A);"
   ]
  },
  {
   "cell_type": "code",
   "execution_count": 70,
   "metadata": {},
   "outputs": [
    {
     "name": "stdout",
     "output_type": "stream",
     "text": [
      "\n",
      "h =\n",
      "\n",
      "  343.3732\n",
      "\n"
     ]
    }
   ],
   "source": [
    "load('Case3-1')\n",
    "\n",
    "HI=abs(Hf_chan_2);\n",
    "h=HI(b)%inertance in 1/kg"
   ]
  },
  {
   "cell_type": "markdown",
   "metadata": {},
   "source": [
    "Acceleration Response Plot\n",
    "-------------------------------"
   ]
  },
  {
   "cell_type": "code",
   "execution_count": 71,
   "metadata": {
    "collapsed": true
   },
   "outputs": [],
   "source": [
    "load('Case3-5-Fn+10')\n",
    "figure\n",
    "plot(Time_domain,(Time_chan_2*9.81))\n",
    "grid on\n",
    "grid minor\n",
    "title('Case 3-5-Fn+10: Acc vs Time')\n",
    "xlabel('T(sec)')\n",
    "ylabel('Acc')"
   ]
  },
  {
   "cell_type": "markdown",
   "metadata": {},
   "source": [
    "Data Analysis\n",
    "------------------"
   ]
  },
  {
   "cell_type": "code",
   "execution_count": 77,
   "metadata": {},
   "outputs": [
    {
     "name": "stdout",
     "output_type": "stream",
     "text": [
      "\n",
      "Xmax =\n",
      "\n",
      "  single\n",
      "\n",
      "  2.2536e-05\n",
      "\n"
     ]
    }
   ],
   "source": [
    "Amax=max((Time_chan_2*9.81)-1);\n",
    "Xmax=(Amax)/(wr*2*pi)^2 %max displ"
   ]
  },
  {
   "cell_type": "code",
   "execution_count": 73,
   "metadata": {},
   "outputs": [
    {
     "name": "stdout",
     "output_type": "stream",
     "text": [
      "\n",
      "r =\n",
      "\n",
      "  single\n",
      "\n",
      "    1.0616\n",
      "\n"
     ]
    }
   ],
   "source": [
    "r=wr/f % freq ratio"
   ]
  },
  {
   "cell_type": "code",
   "execution_count": 74,
   "metadata": {},
   "outputs": [
    {
     "name": "stdout",
     "output_type": "stream",
     "text": [
      "\n",
      "moe =\n",
      "\n",
      "  single\n",
      "\n",
      "  6.5630e-08\n",
      "\n"
     ]
    }
   ],
   "source": [
    "moe=Xmax/h %experimental rotating unbalance"
   ]
  },
  {
   "cell_type": "markdown",
   "metadata": {},
   "source": [
    "Beam Properties\n",
    "------------------------------"
   ]
  },
  {
   "cell_type": "code",
   "execution_count": 75,
   "metadata": {},
   "outputs": [
    {
     "name": "stdout",
     "output_type": "stream",
     "text": [
      "\n",
      "m =\n",
      "\n",
      "    0.4812\n",
      "\n"
     ]
    }
   ],
   "source": [
    "l=21.75*0.0254;% length in meters\n",
    "h=0.5*0.0254;% height in meters\n",
    "w=1*0.0254;% width in meters\n",
    "rho=2700;% density in kg/cubicmeter\n",
    "V = l*w*h;% volume (m^3)\n",
    "m=rho*V\n"
   ]
  },
  {
   "cell_type": "markdown",
   "metadata": {},
   "source": [
    "Analytical rotating unbalance\n",
    "-----------------------------------"
   ]
  },
  {
   "cell_type": "code",
   "execution_count": 76,
   "metadata": {},
   "outputs": [
    {
     "name": "stdout",
     "output_type": "stream",
     "text": [
      "\n",
      "moeA =\n",
      "\n",
      "  single\n",
      "\n",
      "  1.2226e-06\n",
      "\n"
     ]
    }
   ],
   "source": [
    "moeA=m*Xmax*sqrt((1-r^2)^2+(2*zeta*r)^2)/(r^2)"
   ]
  },
  {
   "cell_type": "code",
   "execution_count": null,
   "metadata": {
    "collapsed": true
   },
   "outputs": [],
   "source": []
  }
 ],
 "metadata": {
  "kernelspec": {
   "display_name": "MATLAB",
   "language": "matlab",
   "name": "imatlab"
  },
  "language_info": {
   "codemirror_mode": "octave",
   "file_extension": ".m",
   "mimetype": "text/x-matlab",
   "name": "matlab",
   "nbconvert_exporter": "imatlab._exporter.MatlabExporter",
   "pygments_lexer": "matlab",
   "version": "9.2.0.556344 (R2017a)"
  }
 },
 "nbformat": 4,
 "nbformat_minor": 2
}
