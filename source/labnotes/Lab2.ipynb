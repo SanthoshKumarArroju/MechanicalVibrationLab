{
 "cells": [
  {
   "cell_type": "markdown",
   "metadata": {},
   "source": [
    "# Lab 2: Frequency Domain Identification Techniques"
   ]
  },
  {
   "cell_type": "code",
   "execution_count": 4,
   "metadata": {},
   "outputs": [],
   "source": [
    "%load_ext autoreload\n",
    "%autoreload 2\n",
    "import vibration_toolbox as vtb\n",
    "from vibration_toolbox import sdof_cf\n",
    "import matplotlib.pyplot as plt\n",
    "import numpy as np\n",
    "import scipy.io as sio\n",
    "import math as math\n",
    "import scipy.linalg as la"
   ]
  },
  {
   "cell_type": "markdown",
   "metadata": {},
   "source": [
    "Beam Properties\n",
    "-----------------------"
   ]
  },
  {
   "cell_type": "code",
   "execution_count": 5,
   "metadata": {},
   "outputs": [],
   "source": [
    "l=21.75*0.0254;# length in meters\n",
    "h=0.5*0.0254;# height in meters\n",
    "w=1*0.0254;# width in meters\n",
    "A=w*h;\n",
    "rho=2700;# density in kg/cubicmeter\n",
    "E=7.31e10;# youngs modulus in Pa\n",
    "I = (1/12)*w*h**3; # moment of inertia (m^4)\n",
    "k = (3*E*I)/l**3; # stiffness (N/m)\n",
    "V = l*w*h;# volume (m^3)\n",
    "m = rho*V;# mass (kg)\n",
    "wn = (np.sqrt(k/m))/(2*math.pi) # analytical natural frequency of massless beam with concentrated mass in Hz\n",
    "wnunibeam=((1.875)**(2)*np.sqrt((E*I)/(m*(l)**3)))/(2*math.pi) # natural freqency of a uniform section beam in Hz\n",
    "#c_cr = 2*sqrt(k*m); # critical damping coefficient"
   ]
  },
  {
   "cell_type": "code",
   "execution_count": 6,
   "metadata": {},
   "outputs": [
    {
     "data": {
      "text/plain": [
       "17.229977388638673"
      ]
     },
     "execution_count": 6,
     "metadata": {},
     "output_type": "execute_result"
    }
   ],
   "source": [
    "wn"
   ]
  },
  {
   "cell_type": "code",
   "execution_count": 7,
   "metadata": {},
   "outputs": [
    {
     "data": {
      "text/plain": [
       "34.972495605920052"
      ]
     },
     "execution_count": 7,
     "metadata": {},
     "output_type": "execute_result"
    }
   ],
   "source": [
    "wnunibeam"
   ]
  },
  {
   "cell_type": "markdown",
   "metadata": {},
   "source": [
    "Freq versus Magnitude plot\n",
    "-------------------------------"
   ]
  },
  {
   "cell_type": "code",
   "execution_count": 8,
   "metadata": {},
   "outputs": [
    {
     "data": {
      "image/png": "[encoded data removed]",
      "text/plain": [
       "<matplotlib.figure.Figure at 0x7f16d4d54940>"
      ]
     },
     "metadata": {},
     "output_type": "display_data"
    }
   ],
   "source": [
    "# Mag vs Freq\n",
    "\n",
    "%matplotlib inline\n",
    "mat_contents=sio.loadmat('Case2-2.mat')\n",
    "f = mat_contents['Freq_domain']\n",
    "Hf_chan_2 = mat_contents['Hf_chan_2']\n",
    "H= (20)*(np.log10(np.abs(Hf_chan_2)))\n",
    "plt.plot(f, H)\n",
    "plt.grid('on')\n",
    "plt.xlabel('$Freq,Hz$')\n",
    "plt.ylabel('$H,dB$')\n",
    "plt.title('$Magn$ versus $Freq$')\n",
    "plt.show()"
   ]
  },
  {
   "cell_type": "markdown",
   "metadata": {},
   "source": [
    "Quadrature peak picking\n",
    "---------------------------"
   ]
  },
  {
   "cell_type": "code",
   "execution_count": 9,
   "metadata": {
    "collapsed": true
   },
   "outputs": [],
   "source": [
    "hpeak=85.23;# obtained from plot\n",
    "fd=34.06 #obtained from plot\n",
    "thredb=(hpeak)/np.sqrt(2);\n",
    "fda=33.65;#obtained from plot\n",
    "fdb=34.35;#obtained from plot\n",
    "zeta=(fdb-fda)/(2*fd)\n",
    "fn=fd/np.sqrt(1-zeta**2) # in hertz"
   ]
  },
  {
   "cell_type": "code",
   "execution_count": 10,
   "metadata": {},
   "outputs": [
    {
     "data": {
      "text/plain": [
       "34.06"
      ]
     },
     "execution_count": 10,
     "metadata": {},
     "output_type": "execute_result"
    }
   ],
   "source": [
    "fd"
   ]
  },
  {
   "cell_type": "code",
   "execution_count": 11,
   "metadata": {},
   "outputs": [
    {
     "data": {
      "text/plain": [
       "0.010275983558426348"
      ]
     },
     "execution_count": 11,
     "metadata": {},
     "output_type": "execute_result"
    }
   ],
   "source": [
    "zeta"
   ]
  },
  {
   "cell_type": "code",
   "execution_count": 12,
   "metadata": {},
   "outputs": [
    {
     "data": {
      "text/plain": [
       "34.061798439554778"
      ]
     },
     "execution_count": 12,
     "metadata": {},
     "output_type": "execute_result"
    }
   ],
   "source": [
    "fn"
   ]
  },
  {
   "cell_type": "markdown",
   "metadata": {},
   "source": [
    "## Using Vibration Toolbox"
   ]
  },
  {
   "cell_type": "code",
   "execution_count": 14,
   "metadata": {},
   "outputs": [
    {
     "data": {
      "image/png": "[encoded data removed]",
      "text/plain": [
       "<matplotlib.figure.Figure at 0x7f16d23871d0>"
      ]
     },
     "metadata": {},
     "output_type": "display_data"
    },
    {
     "data": {
      "text/plain": [
       "(0.00038369496272758913, 34.042986534079276, 16.813265077508397)"
      ]
     },
     "execution_count": 14,
     "metadata": {},
     "output_type": "execute_result"
    }
   ],
   "source": [
    "    %matplotlib inline\n",
    "    mat_contents=sio.loadmat('Case2-2.mat')\n",
    "    f = mat_contents['Freq_domain']\n",
    "    TF = mat_contents['Hf_chan_2']\n",
    "    Fmin=70\n",
    "    Fmax=125\n",
    "    sdof_cf(f, TF, Fmin, Fmax)\n",
    "   "
   ]
  },
  {
   "cell_type": "markdown",
   "metadata": {},
   "source": [
    "Closed form solution\n",
    "--------------------------"
   ]
  },
  {
   "cell_type": "code",
   "execution_count": 17,
   "metadata": {},
   "outputs": [],
   "source": [
    "Beta1= 1.87510407/l\n",
    "Beta2= 4.69409133/l\n",
    "\n",
    "w1=Beta1**2*np.sqrt((E*I)/(rho*A))\n",
    "f1=((Beta1**2)/(2*math.pi))*np.sqrt((E*I)/(rho*A))\n",
    "w2=Beta2**2*np.sqrt((E*I)/(rho*A))\n",
    "f2=((Beta2**2)/(2*math.pi))*np.sqrt((E*I)/(rho*A))"
   ]
  },
  {
   "cell_type": "code",
   "execution_count": 18,
   "metadata": {},
   "outputs": [
    {
     "data": {
      "text/plain": [
       "3.3941606842248166"
      ]
     },
     "execution_count": 18,
     "metadata": {},
     "output_type": "execute_result"
    }
   ],
   "source": [
    "Beta1"
   ]
  },
  {
   "cell_type": "code",
   "execution_count": 20,
   "metadata": {},
   "outputs": [
    {
     "data": {
      "text/plain": [
       "8.496861851751289"
      ]
     },
     "execution_count": 20,
     "metadata": {},
     "output_type": "execute_result"
    }
   ],
   "source": [
    "Beta2"
   ]
  },
  {
   "cell_type": "code",
   "execution_count": 21,
   "metadata": {},
   "outputs": [
    {
     "data": {
      "text/plain": [
       "219.76306397380711"
      ]
     },
     "execution_count": 21,
     "metadata": {},
     "output_type": "execute_result"
    }
   ],
   "source": [
    "w1"
   ]
  },
  {
   "cell_type": "code",
   "execution_count": 22,
   "metadata": {},
   "outputs": [
    {
     "data": {
      "text/plain": [
       "34.976377940451826"
      ]
     },
     "execution_count": 22,
     "metadata": {},
     "output_type": "execute_result"
    }
   ],
   "source": [
    "f1"
   ]
  },
  {
   "cell_type": "code",
   "execution_count": 23,
   "metadata": {},
   "outputs": [
    {
     "data": {
      "text/plain": [
       "1377.23172666088"
      ]
     },
     "execution_count": 23,
     "metadata": {},
     "output_type": "execute_result"
    }
   ],
   "source": [
    "w2"
   ]
  },
  {
   "cell_type": "code",
   "execution_count": 24,
   "metadata": {},
   "outputs": [
    {
     "data": {
      "text/plain": [
       "219.19323708106515"
      ]
     },
     "execution_count": 24,
     "metadata": {},
     "output_type": "execute_result"
    }
   ],
   "source": [
    "f2"
   ]
  },
  {
   "cell_type": "markdown",
   "metadata": {},
   "source": [
    "Beam Deflection at center due to an excitation on the tip with specified frequency (using vibration toolbox)\n",
    "-----------------------------------------------------------------------------------------------------------------------------------"
   ]
  },
  {
   "cell_type": "code",
   "execution_count": 53,
   "metadata": {},
   "outputs": [
    {
     "data": {
      "image/png": "[encoded data removed]",
      "text/plain": [
       "<matplotlib.figure.Figure at 0x7f16d23237f0>"
      ]
     },
     "metadata": {},
     "output_type": "display_data"
    },
    {
     "data": {
      "text/plain": [
       "(array([  0.00000000e+00,   5.00000000e-02,   1.00000000e-01, ...,\n",
       "          9.99000000e+01,   9.99500000e+01,   1.00000000e+02]),\n",
       " array([[  9.88625990e-09 +0.00000000e+00j,\n",
       "          -5.64674260e-10 +0.00000000e+00j],\n",
       "        [  9.88627986e-09 -5.62372397e-13j,\n",
       "          -5.64674289e-10 +5.16129006e-15j],\n",
       "        [  9.88633975e-09 -1.12475843e-12j,\n",
       "          -5.64674377e-10 +1.03225833e-14j],\n",
       "        ..., \n",
       "        [ -1.39732509e-09 -2.24522933e-11j,\n",
       "          -7.12993836e-10 +1.64497909e-11j],\n",
       "        [ -1.39573051e-09 -2.24122831e-11j,\n",
       "          -7.13181297e-10 +1.64666929e-11j],\n",
       "        [ -1.39413876e-09 -2.23723713e-11j,\n",
       "          -7.13368951e-10 +1.64836148e-11j]]))"
      ]
     },
     "execution_count": 53,
     "metadata": {},
     "output_type": "execute_result"
    }
   ],
   "source": [
    "vtb.euler_beam_frf(xin=l, xout=l/2, fmin=0.0, fmax=100.0, zeta=0.02,\n",
    "                   bctype=2, npoints=1601,\n",
    "                   beamparams=np.array([E, I,\n",
    "rho, A, l]))\n",
    "\n"
   ]
  },
  {
   "cell_type": "code",
   "execution_count": 58,
   "metadata": {},
   "outputs": [
    {
     "data": {
      "text/plain": [
       "array([[  9.88625990e-09 +0.00000000e+00j,\n",
       "         -5.64674260e-10 +0.00000000e+00j],\n",
       "       [  9.88627986e-09 -5.62372397e-13j,\n",
       "         -5.64674289e-10 +5.16129006e-15j],\n",
       "       [  9.88633975e-09 -1.12475843e-12j,\n",
       "         -5.64674377e-10 +1.03225833e-14j],\n",
       "       ..., \n",
       "       [ -1.39732509e-09 -2.24522933e-11j,\n",
       "         -7.12993836e-10 +1.64497909e-11j],\n",
       "       [ -1.39573051e-09 -2.24122831e-11j,\n",
       "         -7.13181297e-10 +1.64666929e-11j],\n",
       "       [ -1.39413876e-09 -2.23723713e-11j,\n",
       "         -7.13368951e-10 +1.64836148e-11j]])"
      ]
     },
     "execution_count": 58,
     "metadata": {},
     "output_type": "execute_result"
    }
   ],
   "source": [
    "H"
   ]
  },
  {
   "cell_type": "code",
   "execution_count": 48,
   "metadata": {},
   "outputs": [
    {
     "data": {
      "text/plain": [
       "(array([2000]),)"
      ]
     },
     "execution_count": 48,
     "metadata": {},
     "output_type": "execute_result"
    }
   ],
   "source": [
    "\n",
    "np.where(fout==100)"
   ]
  },
  {
   "cell_type": "code",
   "execution_count": 59,
   "metadata": {},
   "outputs": [
    {
     "data": {
      "text/plain": [
       "array([ -1.39413876e-09 -2.23723713e-11j,  -7.13368951e-10 +1.64836148e-11j])"
      ]
     },
     "execution_count": 59,
     "metadata": {},
     "output_type": "execute_result"
    }
   ],
   "source": [
    "H[2000]"
   ]
  },
  {
   "cell_type": "code",
   "execution_count": 49,
   "metadata": {
    "collapsed": true
   },
   "outputs": [],
   "source": [
    "admittance = np.abs(H[2000])\n",
    "excitationforce=100\n",
    "displacement = admittance*excitationforce"
   ]
  },
  {
   "cell_type": "code",
   "execution_count": 50,
   "metadata": {},
   "outputs": [
    {
     "data": {
      "text/plain": [
       "array([  1.39431826e-07,   7.13559366e-08])"
      ]
     },
     "execution_count": 50,
     "metadata": {},
     "output_type": "execute_result"
    }
   ],
   "source": [
    "displacement"
   ]
  },
  {
   "cell_type": "code",
   "execution_count": null,
   "metadata": {
    "collapsed": true
   },
   "outputs": [],
   "source": []
  }
 ],
 "metadata": {
  "hide_input": false,
  "kernelspec": {
   "display_name": "Python 3",
   "language": "python",
   "name": "python3"
  },
  "language_info": {
   "codemirror_mode": {
    "name": "ipython",
    "version": 3
   },
   "file_extension": ".py",
   "mimetype": "text/x-python",
   "name": "python",
   "nbconvert_exporter": "python",
   "pygments_lexer": "ipython3",
   "version": "3.6.1"
  }
 },
 "nbformat": 4,
 "nbformat_minor": 2
}
